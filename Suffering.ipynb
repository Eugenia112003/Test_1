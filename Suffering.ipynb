{
  "nbformat": 4,
  "nbformat_minor": 0,
  "metadata": {
    "colab": {
      "name": "Suffering",
      "provenance": [],
      "authorship_tag": "ABX9TyMTmzLgEAaI2OVXd6PKaaFf",
      "include_colab_link": true
    },
    "kernelspec": {
      "name": "python3",
      "display_name": "Python 3"
    }
  },
  "cells": [
    {
      "cell_type": "markdown",
      "metadata": {
        "id": "view-in-github",
        "colab_type": "text"
      },
      "source": [
        "<a href=\"https://colab.research.google.com/github/Eugenia112003/Test_1/blob/main/Suffering.ipynb\" target=\"_parent\"><img src=\"https://colab.research.google.com/assets/colab-badge.svg\" alt=\"Open In Colab\"/></a>"
      ]
    },
    {
      "cell_type": "code",
      "metadata": {
        "colab": {
          "base_uri": "https://localhost:8080/"
        },
        "id": "csBGds6Y301H",
        "outputId": "6615f813-2cf2-42ce-919f-b2e3488a67c5"
      },
      "source": [
        "A = int(input())\n",
        "B = int(input())\n",
        "if A < B:\n",
        "  for i in range(A,B+1):\n",
        "    if ((i % 10) == (i // 1000)) and ((i // 10 % 10) == (i // 100 % 10)):\n",
        "      print(i)\n",
        "else:\n",
        "  for i in range(A,B-1,-1):\n",
        "    if ((i % 10) == (i // 1000)) and ((i // 10 % 10) == (i // 100 % 10)):\n",
        "      print(i)"
      ],
      "execution_count": 1,
      "outputs": [
        {
          "output_type": "stream",
          "text": [
            "1600\n",
            "2100\n",
            "1661\n",
            "1771\n",
            "1881\n",
            "1991\n",
            "2002\n"
          ],
          "name": "stdout"
        }
      ]
    }
  ]
}