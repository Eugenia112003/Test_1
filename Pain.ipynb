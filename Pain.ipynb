{
  "nbformat": 4,
  "nbformat_minor": 0,
  "metadata": {
    "colab": {
      "name": "Pain",
      "provenance": [],
      "authorship_tag": "ABX9TyN81puF77tpuIKeJY/8CtjL",
      "include_colab_link": true
    },
    "kernelspec": {
      "name": "python3",
      "display_name": "Python 3"
    }
  },
  "cells": [
    {
      "cell_type": "markdown",
      "metadata": {
        "id": "view-in-github",
        "colab_type": "text"
      },
      "source": [
        "<a href=\"https://colab.research.google.com/github/Eugenia112003/Test_1/blob/main/Pain.ipynb\" target=\"_parent\"><img src=\"https://colab.research.google.com/assets/colab-badge.svg\" alt=\"Open In Colab\"/></a>"
      ]
    },
    {
      "cell_type": "code",
      "metadata": {
        "colab": {
          "base_uri": "https://localhost:8080/"
        },
        "id": "4MFiV-3ihgap",
        "outputId": "da7be8ce-a279-4b2f-e979-570c25bea746"
      },
      "source": [
        "A = int(input())\n",
        "B = int(input())\n",
        "if A < B:\n",
        "    for i in range(A, B + 1):\n",
        "        print(i)\n",
        "elif A > B:\n",
        "    for i in range(A, B - 1, -1):\n",
        "        print(i)\n",
        "else:\n",
        "   print('Числа равны между собой')        "
      ],
      "execution_count": 1,
      "outputs": [
        {
          "output_type": "stream",
          "text": [
            "1\n",
            "10\n",
            "1\n",
            "2\n",
            "3\n",
            "4\n",
            "5\n",
            "6\n",
            "7\n",
            "8\n",
            "9\n",
            "10\n"
          ],
          "name": "stdout"
        }
      ]
    },
    {
      "cell_type": "code",
      "metadata": {
        "id": "8sfHv5Eyth6h"
      },
      "source": [
        ""
      ],
      "execution_count": null,
      "outputs": []
    },
    {
      "cell_type": "code",
      "metadata": {
        "id": "YtIa7NdN3fwE"
      },
      "source": [
        ""
      ],
      "execution_count": null,
      "outputs": []
    }
  ]
}